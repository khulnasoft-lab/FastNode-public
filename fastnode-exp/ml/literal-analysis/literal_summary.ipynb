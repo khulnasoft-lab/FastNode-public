{
 "cells": [
  {
   "cell_type": "code",
   "execution_count": null,
   "metadata": {},
   "outputs": [],
   "source": [
    "import pandas as pd\n",
    "import numpy as np\n",
    "import seaborn as sns\n",
    "import math"
   ]
  },
  {
   "cell_type": "markdown",
   "metadata": {},
   "source": [
    "### Literal Advanced Analysis\n",
    "This notebook used the csv file produced by `literal_analysis` notebook. This file contains an aggregation of the global call dataset with one row for each argument (per function) with the most frequent literal and the literal ratio. "
   ]
  },
  {
   "cell_type": "code",
   "execution_count": null,
   "metadata": {},
   "outputs": [],
   "source": [
    "summary_filename = \"literalsCompSample_all_summarized.csv\"\n",
    "df = pd.read_csv(summary_filename)"
   ]
  },
  {
   "cell_type": "code",
   "execution_count": null,
   "metadata": {},
   "outputs": [],
   "source": [
    "df[\"literal_ratio\"].hist(weights=df[\"count\"], bins=50)"
   ]
  },
  {
   "cell_type": "code",
   "execution_count": null,
   "metadata": {},
   "outputs": [],
   "source": [
    "df.columns"
   ]
  },
  {
   "cell_type": "markdown",
   "metadata": {},
   "source": [
    "Deifnition of a simple score on how predictable is a literal. To avoid bias because of `LIST`, `TUPLE`, ... tokens, we set a score of 0 as soon as one of the most frequent literal is one of those. "
   ]
  },
  {
   "cell_type": "code",
   "execution_count": null,
   "metadata": {},
   "outputs": [],
   "source": [
    "def literal_predict_score(row):\n",
    "    if row['literal_ratio'] < 0.4:\n",
    "        return 0\n",
    "    mfv = str(row['most_freq_values'])\n",
    "    if 'LIST' in mfv or 'COMPREHENSION' in mfv or 'TUPLE' in mfv or 'DICT' in mfv:\n",
    "        return 0\n",
    "    return math.log(row['count'])*row['literal_ratio']*row[\"most_freq_values_ratio\"]/math.sqrt(row[\"unique_values_count\"])\n",
    "\n",
    "def corrected_most_freq_ratio(row):\n",
    "    if row['literal_ratio'] < 0.2:\n",
    "        return -1\n",
    "    mfv = str(row['most_freq_values'])\n",
    "    if 'LIST' in mfv or 'COMPREHENSION' in mfv or 'TUPLE' in mfv or 'DICT' in mfv:\n",
    "        return -1\n",
    "    if row['literal_count'] < 10:\n",
    "        return -1\n",
    "    if np.isnan(row['most_freq_values_ratio']):\n",
    "        return -1\n",
    "    return row['most_freq_values_ratio']\n",
    "\n",
    "df['score'] = df.apply(literal_predict_score, axis=1)\n",
    "df['corrected_mfvr'] = df.apply(corrected_most_freq_ratio, axis=1)"
   ]
  },
  {
   "cell_type": "code",
   "execution_count": null,
   "metadata": {},
   "outputs": [],
   "source": [
    "df.sort_values(by='score', ascending=False)"
   ]
  },
  {
   "cell_type": "markdown",
   "metadata": {},
   "source": [
    "Let's plot the score along the count of call for these args. We are mostly interested by function with high score and a lot of call. The color gives information on the literal ratio. "
   ]
  },
  {
   "cell_type": "code",
   "execution_count": null,
   "metadata": {},
   "outputs": [],
   "source": [
    "target = df[df['score'] > 0.2]\n",
    "target.plot.scatter(x=\"score\", y=\"count\", c=\"literal_ratio\",  colormap='viridis', sharex=False )"
   ]
  },
  {
   "cell_type": "code",
   "execution_count": null,
   "metadata": {},
   "outputs": [],
   "source": [
    "target[\"count\"].sum()"
   ]
  },
  {
   "cell_type": "code",
   "execution_count": null,
   "metadata": {},
   "outputs": [],
   "source": [
    "df['log_count'] = np.log(df['count'])"
   ]
  },
  {
   "cell_type": "code",
   "execution_count": null,
   "metadata": {},
   "outputs": [],
   "source": [
    "df.plot(kind='scatter', x='literal_ratio', y='most_freq_values_ratio', c='log_count', colormap='viridis', sharex=False)"
   ]
  },
  {
   "cell_type": "code",
   "execution_count": null,
   "metadata": {},
   "outputs": [],
   "source": [
    "valid_most_freq = df[df['corrected_mfvr'] >= 0]"
   ]
  },
  {
   "cell_type": "code",
   "execution_count": null,
   "metadata": {},
   "outputs": [],
   "source": [
    "valid_most_freq['corrected_mfvr'].plot(kind='hist', bins=50, title=\"Most freq. values ratio\")"
   ]
  },
  {
   "cell_type": "code",
   "execution_count": null,
   "metadata": {},
   "outputs": [],
   "source": [
    "len(valid_most_freq)"
   ]
  },
  {
   "cell_type": "code",
   "execution_count": null,
   "metadata": {},
   "outputs": [],
   "source": [
    "valid_most_freq.sample(20)"
   ]
  },
  {
   "cell_type": "code",
   "execution_count": null,
   "metadata": {},
   "outputs": [],
   "source": []
  }
 ],
 "metadata": {
  "kernelspec": {
   "display_name": "venv_notebook",
   "language": "python",
   "name": "venv_notebook"
  },
  "language_info": {
   "codemirror_mode": {
    "name": "ipython",
    "version": 3
   },
   "file_extension": ".py",
   "mimetype": "text/x-python",
   "name": "python",
   "nbconvert_exporter": "python",
   "pygments_lexer": "ipython3",
   "version": "3.6.7"
  }
 },
 "nbformat": 4,
 "nbformat_minor": 2
}
