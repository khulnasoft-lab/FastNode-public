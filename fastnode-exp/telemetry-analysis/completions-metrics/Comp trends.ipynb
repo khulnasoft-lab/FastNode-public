{
 "cells": [
  {
   "cell_type": "code",
   "execution_count": null,
   "metadata": {},
   "outputs": [],
   "source": [
    "from typing import NamedTuple, Dict, List, Optional\n",
    "\n",
    "import matplotlib.pyplot as plt\n",
    "\n",
    "import datetime\n",
    "import json\n",
    "import math\n",
    "import numpy as np\n",
    "import os\n",
    "import pandas as pd\n",
    "import sys\n",
    "\n",
    "KHULNASOFT-LAB_ROOT = os.path.join(os.getenv(\"HOME\"), \"go/src/github.com/khulnasoft-lab/fastnode\")\n",
    "sys.path.append(os.path.join(KHULNASOFT-LAB_ROOT, \"fastnode-exp/telemetry-analysis/completions-metrics/\"))\n",
    "\n",
    "%reload_ext autoreload\n",
    "%autoreload 2\n",
    "\n",
    "FILENAME = os.path.join(KHULNASOFT-LAB_ROOT, \"fastnode-exp/telemetry-analysis/completions-metrics/out/completions.json\")\n",
    "PICKLE_FILENAME = os.path.join(KHULNASOFT-LAB_ROOT, \"fastnode-exp/telemetry-analysis/completions-metrics/df.pickle\")\n",
    "\n",
    "def with_percent(series):\n",
    "    \"\"\"Given a series of counts, return a dataframe with a column containing percentages of\n",
    "    global count.\"\"\"\n",
    "    return pd.DataFrame({'count': series, 'percent': series / len(df.index) * 100})\n",
    "\n",
    "def weekdays(df):\n",
    "    return df[~df.index.weekday.isin((5, 6))]"
   ]
  },
  {
   "cell_type": "code",
   "execution_count": null,
   "metadata": {},
   "outputs": [],
   "source": [
    "# Load the completions data from JSON to a dataframe and pickle it for quicker access later\n",
    "# This can be skipped if we already have the pickled file built\n",
    "\n",
    "from analysis.plots import read_logs\n",
    "\n",
    "df = read_logs(FILENAME)\n",
    "df.to_pickle(PICKLE_FILENAME)"
   ]
  },
  {
   "cell_type": "code",
   "execution_count": null,
   "metadata": {},
   "outputs": [],
   "source": [
    "# If the data is already pickled we can use this\n",
    "\n",
    "df = pd.read_pickle(PICKLE_FILENAME)"
   ]
  },
  {
   "cell_type": "code",
   "execution_count": null,
   "metadata": {},
   "outputs": [],
   "source": [
    "df.sample(n=10)"
   ]
  },
  {
   "cell_type": "code",
   "execution_count": null,
   "metadata": {},
   "outputs": [],
   "source": [
    "df.info()"
   ]
  },
  {
   "cell_type": "code",
   "execution_count": null,
   "metadata": {
    "scrolled": true
   },
   "outputs": [],
   "source": [
    "print(\"unique users:\", df.user_id.nunique())"
   ]
  },
  {
   "cell_type": "code",
   "execution_count": null,
   "metadata": {},
   "outputs": [],
   "source": [
    "with_percent(df.resample('W').size())"
   ]
  },
  {
   "cell_type": "code",
   "execution_count": null,
   "metadata": {},
   "outputs": [],
   "source": [
    "from typing import Optional\n",
    "\n",
    "def by_engaged_users(df: pd.DataFrame, fn, threshold=5, agg_fn=lambda g: g.median(), from_date: Optional[pd.Timestamp]=None):\n",
    "    if from_date: \n",
    "        df = df[df.index > from_date]\n",
    "    \n",
    "    daily = weekdays(df.resample('D').sum())\n",
    "    days = list(daily.index)\n",
    "\n",
    "    r = {}\n",
    "    \n",
    "    for day in days:\n",
    "        day_end = day + datetime.timedelta(days=1)\n",
    "        for_day = df[(df.index >= day) & (df.index < day_end)]\n",
    "        by_user = for_day.groupby(['user_id']).sum()\n",
    "        engaged_users = set(by_user[by_user.ones >= threshold].index)\n",
    "        engaged_df = for_day[for_day.user_id.isin(engaged_users)]\n",
    "        grouper = engaged_df.groupby([pd.Grouper(freq='1D'), 'user_id'])\n",
    "        by_date_user = grouper.sum() # <by date> <by user> metrics\n",
    "        metric = fn(by_date_user)\n",
    "        metric = metric.replace([np.inf, -np.inf], np.nan)\n",
    "        metric = metric.dropna()\n",
    "        agg_by_user = agg_fn(metric.groupby(level=['timestamp']))\n",
    "        r[day] = sum(agg_by_user)\n",
    "\n",
    "    return pd.Series(r)[:-1]"
   ]
  },
  {
   "cell_type": "code",
   "execution_count": null,
   "metadata": {},
   "outputs": [],
   "source": [
    "metrics = [\n",
    "    [\"events w/ completions\", lambda df: df.ones],\n",
    "    [\"requested expected\", lambda df: df.requested_expected],\n",
    "    [\"shown\", lambda df: df.shown],\n",
    "    [\"shown / requested expected\", lambda df: df.shown / df.requested_expected], \n",
    "    [\"at_least_one_shown\", lambda df: df.at_least_one_shown],\n",
    "    [\"shown / events\", lambda df: df.shown / df.ones],\n",
    "    [\"requested expected / events\", lambda df: df.requested_expected / df.ones],\n",
    "    [\"selected\", lambda df: df.selected_num],\n",
    "    [\"selected / requested expected\", lambda df: df.selected_num / df.requested_expected],\n",
    "    [\"selected2\", lambda df: df.selected_2_num],\n",
    "    [\"selected / requested expected\", lambda df: df.selected_2_num / df.requested_expected],\n",
    "]"
   ]
  },
  {
   "cell_type": "code",
   "execution_count": null,
   "metadata": {},
   "outputs": [],
   "source": [
    "plt.figure(figsize=(16,22))\n",
    "for i, m in enumerate(metrics):\n",
    "    title, fn = m\n",
    "    plt.subplot(int(math.ceil(len(metrics) / 2)), 2, i+1)\n",
    "    s = by_engaged_users(df, fn, threshold=10, agg_fn=lambda g: g.mean())\n",
    "    s.resample('1W').mean().plot(marker='o')\n",
    "    s2 = by_engaged_users(df, fn, threshold=0, agg_fn=lambda g: g.mean())\n",
    "    s2.resample('1W').mean().plot(marker='o')\n",
    "    plt.title(\"mean \" + title)\n",
    "    plt.xlabel('')\n",
    "    #max_val = weekly_avg.max()\n",
    "    #plt.ylim([0, max_val * 1.1])\n",
    "plt.tight_layout()    \n",
    "plt.show()"
   ]
  },
  {
   "cell_type": "code",
   "execution_count": null,
   "metadata": {},
   "outputs": [],
   "source": [
    "plt.figure(figsize=(16,22))\n",
    "for i, m in enumerate(metrics):\n",
    "    title, fn = m\n",
    "    plt.subplot(int(math.ceil(len(metrics) / 2)), 2, i+1)\n",
    "    s = by_engaged_users(df, fn, threshold=10)\n",
    "    s.resample('1W').mean().plot(marker='o')\n",
    "    s2 = by_engaged_users(df, fn, threshold=0)\n",
    "    s2.resample('1W').mean().plot(marker='o')\n",
    "    plt.title(\"median \" + title)\n",
    "    plt.xlabel('')\n",
    "    #max_val = weekly_avg.max()\n",
    "    #plt.ylim([0, max_val * 1.1])\n",
    "plt.tight_layout()    \n",
    "plt.show()"
   ]
  },
  {
   "cell_type": "code",
   "execution_count": null,
   "metadata": {},
   "outputs": [],
   "source": [
    "plt.figure(figsize=(12,6))\n",
    "weekdays(by_engaged_users(df[df.index >= '2019-05-01'], lambda df: df.shown, threshold=10)).plot(marker='o')\n",
    "weekdays(by_engaged_users(df[df.index >= '2019-05-01'], lambda df: df.at_least_one_shown, threshold=10)).plot(marker='o')\n",
    "plt.legend(['shown', 'at least one shown'])\n",
    "plt.show()"
   ]
  },
  {
   "cell_type": "code",
   "execution_count": null,
   "metadata": {},
   "outputs": [],
   "source": [
    "plt.figure(figsize=(16,8))\n",
    "by_engaged_users(df, lambda df: df.requested, threshold=10).plot(marker='o')\n",
    "by_engaged_users(df, lambda df: df.requested_expected, threshold=10).plot(marker='o')\n",
    "\n",
    "plt.show()"
   ]
  },
  {
   "cell_type": "code",
   "execution_count": null,
   "metadata": {},
   "outputs": [],
   "source": [
    "mtac_metrics = [\n",
    "    [\"selected_2_attribute_model / requested expected\", lambda df: df.selected_2_attribute_model / df.requested_expected],\n",
    "    [\"selected_2_attribute_model / requested\", lambda df: df.selected_2_attribute_model / df.requested],\n",
    "    [\"selected_2_call_model / requested expected\", lambda df: df.selected_2_call_model / df.requested_expected],\n",
    "    [\"selected_2_call_model / requested\", lambda df: df.selected_2_call_model / df.requested],\n",
    "    [\"selected_2_attribute_model / requested expected\", lambda df: df.selected_2_attribute_model / df.requested_expected],\n",
    "    [\"selected_2_attribute_model / requested\", lambda df: df.selected_2_attribute_model / df.requested],\n",
    "    [\"selected_2_call_model / requested expected\", lambda df: df.selected_2_call_model / df.requested_expected],\n",
    "    [\"selected_2_call_model / requested\", lambda df: df.selected_2_call_model / df.requested],\n",
    "    [\"selected_2_attribute_model\", lambda df: df.selected_2_attribute_model],\n",
    "    [\"selected_2_call_model\", lambda df: df.selected_2_call_model],\n",
    "    [\"selected_mtac\", lambda df: df.selected_mtac],\n",
    "    [\"selected_2_mtac\", lambda df: df.selected_2_mtac],\n",
    "]\n",
    "\n",
    "plt.figure(figsize=(16,24))\n",
    "for i, m in enumerate(mtac_metrics):\n",
    "    title, fn = m\n",
    "    plt.subplot(int(math.ceil(len(metrics) / 2)), 2, i+1)\n",
    "    s = by_engaged_users(df, fn, threshold=10, agg_fn=lambda g: g.mean())\n",
    "    s.resample('W').mean().plot(marker='o')\n",
    "    s2 = by_engaged_users(df, fn, threshold=0, agg_fn=lambda g: g.mean())\n",
    "    s2.resample('W').mean().plot(marker='o')\n",
    "    plt.title(\"mean \" + title)\n",
    "    plt.xlabel('')\n",
    "    #max_val = weekly_avg.max()\n",
    "    #plt.ylim([0, max_val * 1.1])\n",
    "plt.tight_layout()    \n",
    "plt.show()"
   ]
  },
  {
   "cell_type": "code",
   "execution_count": null,
   "metadata": {},
   "outputs": [],
   "source": [
    "len(df[df.selected_2_call_model > 0])"
   ]
  },
  {
   "cell_type": "code",
   "execution_count": null,
   "metadata": {},
   "outputs": [],
   "source": [
    "more_metrics = [\n",
    "    [\"selected_num\", lambda df: df.selected_num],\n",
    "    [\"selected_2_num\", lambda df: df.selected_2_num],\n",
    "    [\"at_least_one_shown\", lambda df:  df.at_least_one_shown],\n",
    "    [\"at_least_one_shown_call_model\", lambda df: df.at_least_one_shown_call_model],\n",
    "    [\"selected_2_call_model / at_least_one_shown_call_model\", lambda df: df.selected_2_call_model / df.at_least_one_shown_call_model],\n",
    "    [\"selected_2_mtac / at_least_one_shown_mtac\", lambda df: df.selected_2_mtac / df.at_least_one_shown_mtac],\n",
    "    [\"selected_2_call_model / at_least_one_shown\", lambda df: df.selected_2_call_model / df.at_least_one_shown],\n",
    "    [\"selected_2_mtac / at_least_one_shown\", lambda df: df.selected_2_mtac / df.at_least_one_shown],\n",
    "    [\"selected_2_mtac / requested_expected\", lambda df: df.selected_2_mtac / df.requested_expected],\n",
    "    [\"selected_2_call_model / requested_expected\", lambda df: df.selected_2_call_model / df.requested_expected],\n",
    "]\n",
    "\n",
    "plt.figure(figsize=(16,22))\n",
    "for i, m in enumerate(more_metrics):\n",
    "    title, fn = m\n",
    "    plt.subplot(int(math.ceil(len(metrics) / 2)), 2, i+1)\n",
    "    s = by_engaged_users(df, fn, threshold=10, agg_fn=lambda g: g.mean(), from_date='2019-05-01')\n",
    "    s.plot(marker='o')\n",
    "    s2 = by_engaged_users(df, fn, threshold=0, agg_fn=lambda g: g.mean(), from_date='2019-05-01')\n",
    "    s2.plot(marker='o')\n",
    "    plt.title(\"mean \" + title)\n",
    "plt.tight_layout()    \n",
    "plt.show()"
   ]
  },
  {
   "cell_type": "code",
   "execution_count": null,
   "metadata": {},
   "outputs": [],
   "source": [
    "plt.figure(figsize=(16,8))\n",
    "later = df[df.index > '2019-05-01'].resample('D').sum()\n",
    "typs = [\"traditional\", \"attribute_model\", \"call_model\", \"keyword_model\", \"expr_model\"]\n",
    "for typ in typs:\n",
    "    later[f\"selected_{typ}\"].plot(marker='o')\n",
    "later[\"selected_num\"].plot(marker='o')\n",
    "plt.legend(typs + [\"num\"])"
   ]
  },
  {
   "cell_type": "code",
   "execution_count": null,
   "metadata": {},
   "outputs": [],
   "source": [
    "plt.figure(figsize=(16,8))\n",
    "df[df.index >= '2019-04-01'].resample('D').sum().requested_expected.plot(marker='o')"
   ]
  },
  {
   "cell_type": "code",
   "execution_count": null,
   "metadata": {},
   "outputs": [],
   "source": []
  }
 ],
 "metadata": {
  "kernelspec": {
   "display_name": "Python 3",
   "language": "python",
   "name": "python3"
  },
  "language_info": {
   "codemirror_mode": {
    "name": "ipython",
    "version": 3
   },
   "file_extension": ".py",
   "mimetype": "text/x-python",
   "name": "python",
   "nbconvert_exporter": "python",
   "pygments_lexer": "ipython3",
   "version": "3.6.4"
  }
 },
 "nbformat": 4,
 "nbformat_minor": 2
}
