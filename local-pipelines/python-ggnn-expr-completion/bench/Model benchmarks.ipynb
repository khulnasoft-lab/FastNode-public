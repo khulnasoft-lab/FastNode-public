{
 "cells": [
  {
   "cell_type": "code",
   "execution_count": null,
   "metadata": {},
   "outputs": [],
   "source": [
    "import os\n",
    "\n",
    "DATA_DIR = os.path.join(os.getenv('HOME'), \"khulnasoft-lab/local-pipelines/python-ggnn-expr-completion/benchdata\")\n",
    "\n",
    "import pandas as pd\n",
    "import matplotlib.pyplot as plt\n",
    "\n",
    "def results_plot(csv_file: str, x_axis: str, x_label: str):\n",
    "    df = pd.read_csv(os.path.join(DATA_DIR, csv_file))\n",
    "    \n",
    "    plt.figure(figsize=(16, 6))\n",
    "    ax1 = plt.subplot(121)\n",
    "    df[\"mem_max\"] = df[\"mem_max\"] / 1024\n",
    "    df[\"mem_median\"] = df[\"mem_median\"] / 1024\n",
    "    df[[x_axis, \"mem_max\", \"mem_median\"]].plot(ax=ax1, x=x_axis, marker=\"o\")\n",
    "    plt.xlabel(x_label)\n",
    "    plt.ylabel(\"mem usage (MiB)\")\n",
    "    plt.title(\"memory usage\")\n",
    "    \n",
    "    ax2 = plt.subplot(122)\n",
    "    df[\"inf_time_max\"] = df[\"inf_time_max\"] * 1000\n",
    "    df[\"inf_time_median\"] = df[\"inf_time_median\"] * 1000\n",
    "    df[[x_axis, \"inf_time_max\", \"inf_time_median\"]].plot(ax=ax2, x=x_axis, marker=\"o\")\n",
    "    plt.xlabel(x_label)\n",
    "    plt.ylabel(\"inference time (ms)\")\n",
    "    plt.title(\"inference time\")\n",
    "\n",
    "    plt.show()"
   ]
  },
  {
   "cell_type": "code",
   "execution_count": null,
   "metadata": {},
   "outputs": [],
   "source": [
    "results_plot(\"results_depth.csv\", \"depth\", \"type/subtoken depth\")"
   ]
  },
  {
   "cell_type": "code",
   "execution_count": null,
   "metadata": {},
   "outputs": [],
   "source": [
    "results_plot(\"results_scale.csv\", \"scale\", \"embedding scale factor\")"
   ]
  },
  {
   "cell_type": "code",
   "execution_count": null,
   "metadata": {},
   "outputs": [],
   "source": [
    "results_plot(\"results_nodes.csv\", \"nodes\", \"number of nodes (edges=2100)\")"
   ]
  },
  {
   "cell_type": "code",
   "execution_count": null,
   "metadata": {},
   "outputs": [],
   "source": [
    "results_plot(\"results_edges.csv\", \"edges\", \"number of edges (nodes=400)\")"
   ]
  },
  {
   "cell_type": "code",
   "execution_count": null,
   "metadata": {},
   "outputs": [],
   "source": []
  }
 ],
 "metadata": {
  "kernelspec": {
   "display_name": "Python 3",
   "language": "python",
   "name": "python3"
  },
  "language_info": {
   "codemirror_mode": {
    "name": "ipython",
    "version": 3
   },
   "file_extension": ".py",
   "mimetype": "text/x-python",
   "name": "python",
   "nbconvert_exporter": "python",
   "pygments_lexer": "ipython3",
   "version": "3.6.4"
  }
 },
 "nbformat": 4,
 "nbformat_minor": 2
}
